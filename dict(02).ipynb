{
 "cells": [
  {
   "cell_type": "code",
   "execution_count": 1,
   "id": "8c76a20c-5700-496c-bd5f-5d9c546989d5",
   "metadata": {},
   "outputs": [
    {
     "name": "stdout",
     "output_type": "stream",
     "text": [
      "Roger Bumpass\n"
     ]
    }
   ],
   "source": [
    "# Use the `from` keyword to import the `shows` dictionary from the `show_data.py` file\n",
    "from show_data import shows \n",
    "\n",
    "\n",
    "# QUESTION 1: Who is the actor that plays Squidward in Spongebob (kids)?\n",
    "print(shows[\"genre\"][\"kids\"][\"Spongebob\"][\"cast\"][3][\"actor\"])\n"
   ]
  },
  {
   "cell_type": "code",
   "execution_count": 2,
   "id": "ea9da0fb-93b6-4846-b69a-aff84a5310ff",
   "metadata": {},
   "outputs": [
    {
     "name": "stdout",
     "output_type": "stream",
     "text": [
      "https://www.imdb.com/name/nm0911320/?ref_=nv_sr_2\n"
     ]
    }
   ],
   "source": [
    "# QUESTION 2: Patrick Warburton plays Joe Swanson in Family Guy (comedy). What is the link to his imdb page?\n",
    "print(shows[\"genre\"][\"comedy\"][\"family_guy\"][\"cast\"][4][\"imdb\"])\n"
   ]
  },
  {
   "cell_type": "code",
   "execution_count": 3,
   "id": "6d6a5cef-864b-43cd-bb7f-4396ee5097fa",
   "metadata": {},
   "outputs": [
    {
     "name": "stdout",
     "output_type": "stream",
     "text": [
      "True\n"
     ]
    }
   ],
   "source": [
    "# QUESTION 3: Is the Walking Dead still running?\n",
    "print(shows[\"genre\"][\"drama\"][\"the_walking_dead\"][\"still_running\"])"
   ]
  },
  {
   "cell_type": "code",
   "execution_count": 4,
   "id": "b9d75036-7029-48f9-b5fe-a5f07da585b1",
   "metadata": {},
   "outputs": [
    {
     "name": "stdout",
     "output_type": "stream",
     "text": [
      "Dexter Morgan Christine Cavanaugh\n"
     ]
    }
   ],
   "source": [
    "# QUESTION 4: Who plays Dexter in Dexter (drama) and who plays Dexter in Dexter's Lab (kids)?\n",
    "# HINT: You can print multiple items at once by using a comma like this: print(thing1, thing2)\n",
    "print(shows[\"genre\"][\"drama\"][\"dexter\"][\"cast\"][0][\"character\"], shows[\"genre\"][\"kids\"][\"dexters_lab\"][\"cast\"][0][\"actor\"])\n"
   ]
  },
  {
   "cell_type": "code",
   "execution_count": 5,
   "id": "ef9d2f04-3f05-46c8-af3a-ab5019383a0e",
   "metadata": {},
   "outputs": [
    {
     "name": "stdout",
     "output_type": "stream",
     "text": [
      "['Ross Duffer', 'Matt Duffer']\n"
     ]
    }
   ],
   "source": [
    "# QUESTION 5: Who are the creators of Stranger Things (drama)?\n",
    "drama = shows[\"genre\"][\"drama\"]\n",
    "print(drama[\"stranger_things\"][\"creators\"])\n"
   ]
  },
  {
   "cell_type": "code",
   "execution_count": 6,
   "id": "093fcc4a-715b-4c3c-b4e7-586269e53351",
   "metadata": {},
   "outputs": [
    {
     "name": "stdout",
     "output_type": "stream",
     "text": [
      "Trevor Noah\n"
     ]
    }
   ],
   "source": [
    "# QUESTION 6: Who hosts the Daily Show (talk)?\n",
    "talk = shows[\"genre\"][\"talk\"]\n",
    "print(talk[\"the_daily_show\"][\"host\"])"
   ]
  },
  {
   "cell_type": "code",
   "execution_count": 36,
   "id": "7af8f55b-c397-49e9-a23b-c8c70e88c694",
   "metadata": {},
   "outputs": [
    {
     "name": "stdout",
     "output_type": "stream",
     "text": [
      "Whoopi Goldberg\n",
      "Barbara Walters\n",
      "Joy Behar\n",
      "Star Jones\n",
      "Meredith Vieira\n"
     ]
    }
   ],
   "source": [
    "# QUESTION 7: Who are all the hosts of the view (talk)\n",
    "# Hint: You will need to use a loop for this one. \n",
    "#You may not simply log the entire list, but must log each name individually\n",
    "\n",
    "for name in shows[\"genre\"][\"talk\"][\"the_view\"][\"host\"]:\n",
    "    print(name)"
   ]
  },
  {
   "cell_type": "code",
   "execution_count": 8,
   "id": "f4376795-3160-4ac8-8278-e33788662d46",
   "metadata": {},
   "outputs": [],
   "source": [
    "# QUESTION 8: What are the show names of the Impractical Jokers (comedy)\n",
    "# Hint: You will need to use a loop for this one. You may not simply log the entire list, but must log each name individually"
   ]
  },
  {
   "cell_type": "code",
   "execution_count": 9,
   "id": "0552ec68-f09a-492c-b2ac-cd4e6c66dfad",
   "metadata": {},
   "outputs": [
    {
     "name": "stdout",
     "output_type": "stream",
     "text": [
      "Gob Bluth\n"
     ]
    }
   ],
   "source": [
    "# QUESTION 9: Who does Will Arnett play in Arrested Development (comedy)\n",
    "print(shows[\"genre\"][\"comedy\"][\"arrested_development\"][\"cast\"][2][\"character\"])"
   ]
  },
  {
   "cell_type": "code",
   "execution_count": 10,
   "id": "deb6e0e2-0f3b-404d-9275-aa7c7681cd87",
   "metadata": {},
   "outputs": [
    {
     "name": "stdout",
     "output_type": "stream",
     "text": [
      "Dan Green\n"
     ]
    }
   ],
   "source": [
    "# QUESTION 10: Who plays Yami Yugi in Yu-Gi-Oh (kids)?\n",
    "print(shows[\"genre\"][\"kids\"][\"yu_gi_oh\"][\"cast\"][0][\"actor\"])"
   ]
  },
  {
   "cell_type": "code",
   "execution_count": 15,
   "id": "5de6bcf9-ffaf-4529-9637-505dda051897",
   "metadata": {},
   "outputs": [
    {
     "name": "stdout",
     "output_type": "stream",
     "text": [
      "9\n"
     ]
    }
   ],
   "source": [
    "# QUESTION 11: How many seasons did the Office (comedy) run?\n",
    "print(shows[\"genre\"][\"comedy\"][\"the_office\"][\"num_seasons\"])"
   ]
  },
  {
   "cell_type": "code",
   "execution_count": 23,
   "id": "6eac372d-caf5-4d44-8caa-8c00c93c86f3",
   "metadata": {},
   "outputs": [
    {
     "name": "stdout",
     "output_type": "stream",
     "text": [
      "Michael Scott John Krasinsky Dwight Schrute Pam Beasley Kelly Kapoor\n"
     ]
    }
   ],
   "source": [
    "# QUESTION 12: Who are the main characters of the Office (comedy) (not the actors, but the actual character names)?\n",
    "print(shows[\"genre\"][\"comedy\"][\"the_office\"][\"cast\"][0][\"character\"],\n",
    "      shows[\"genre\"][\"comedy\"][\"the_office\"][\"cast\"][1][\"character\"],\n",
    "     shows[\"genre\"][\"comedy\"][\"the_office\"][\"cast\"][2][\"character\"],\n",
    "     shows[\"genre\"][\"comedy\"][\"the_office\"][\"cast\"][3][\"character\"],\n",
    "     shows[\"genre\"][\"comedy\"][\"the_office\"][\"cast\"][4][\"character\"])"
   ]
  },
  {
   "cell_type": "code",
   "execution_count": 27,
   "id": "02287a8e-a58f-4f83-b1fc-2770ae08bcc4",
   "metadata": {},
   "outputs": [
    {
     "name": "stdout",
     "output_type": "stream",
     "text": [
      "Robin Raven Cyborg Beast Boy Starfire\n"
     ]
    }
   ],
   "source": [
    "# QUESTION 13: List the characters in Teen Titans (kids)\n",
    "print(shows[\"genre\"][\"kids\"][\"teen_titans\"][\"cast\"][0][\"character\"],\n",
    "     shows[\"genre\"][\"kids\"][\"teen_titans\"][\"cast\"][1][\"character\"],\n",
    "     shows[\"genre\"][\"kids\"][\"teen_titans\"][\"cast\"][2][\"character\"],\n",
    "     shows[\"genre\"][\"kids\"][\"teen_titans\"][\"cast\"][3][\"character\"],\n",
    "     shows[\"genre\"][\"kids\"][\"teen_titans\"][\"cast\"][4][\"character\"])"
   ]
  },
  {
   "cell_type": "code",
   "execution_count": 29,
   "id": "28032705-bd50-4397-9407-f0ef990af5ac",
   "metadata": {},
   "outputs": [
    {
     "name": "stdout",
     "output_type": "stream",
     "text": [
      "https://www.imdb.com/name/nm0000317/?ref_=nv_sr_1\n"
     ]
    }
   ],
   "source": [
    "# QUESTION 14: What is the link to the IMDB page for the actor who plays Mr. Krabs (Spongebob, kids)?\n",
    "print(shows[\"genre\"][\"kids\"][\"Spongebob\"][\"cast\"][1][\"imdb\"])"
   ]
  },
  {
   "cell_type": "code",
   "execution_count": 30,
   "id": "027d6e7f-299c-4c3f-804c-fe8e47c02077",
   "metadata": {},
   "outputs": [
    {
     "name": "stdout",
     "output_type": "stream",
     "text": [
      "Jeffrey Dean Morgan\n"
     ]
    }
   ],
   "source": [
    "# QUESTION 15: Who plays Negan in The Walking Dead?\n",
    "print(shows[\"genre\"][\"drama\"][\"the_walking_dead\"][\"cast\"][2][\"actor\"])"
   ]
  },
  {
   "cell_type": "code",
   "execution_count": 31,
   "id": "52e96f1f-76a2-4b50-aaac-e72bbfdf1754",
   "metadata": {},
   "outputs": [
    {
     "name": "stdout",
     "output_type": "stream",
     "text": [
      "Michael C. Hall Jennifer Carpenter David Zayas Desmond Harrington James Remar\n"
     ]
    }
   ],
   "source": [
    "# QUESTION 16: List the main cast of Dexter (drama) (the actors, not the characters)\n",
    "drama = shows[\"genre\"][\"drama\"][\"dexter\"][\"cast\"]\n",
    "print(drama[0][\"actor\"], drama[1][\"actor\"], drama[2][\"actor\"], drama[3][\"actor\"], drama[4][\"actor\"])"
   ]
  },
  {
   "cell_type": "code",
   "execution_count": 32,
   "id": "57f2c6b7-8fb9-404c-9e07-8d08bc33ef28",
   "metadata": {},
   "outputs": [
    {
     "name": "stdout",
     "output_type": "stream",
     "text": [
      "False\n"
     ]
    }
   ],
   "source": [
    "# QUESTION 17: Is Game of Thrones(drama) still running?\n",
    "drama = shows[\"genre\"][\"drama\"]\n",
    "print(drama[\"game_of_thrones\"][\"still_running\"])"
   ]
  },
  {
   "cell_type": "code",
   "execution_count": 33,
   "id": "8717f348-5ec6-48d9-af0c-fc89297eccb8",
   "metadata": {},
   "outputs": [
    {
     "name": "stdout",
     "output_type": "stream",
     "text": [
      "Tyrion Lannister\n"
     ]
    }
   ],
   "source": [
    "# QUESTION 18: Who does Peter Dinklage play in Game of Thrones (drama)?\n",
    "drama = shows[\"genre\"][\"drama\"][\"game_of_thrones\"]\n",
    "print(drama[\"cast\"][1][\"character\"])"
   ]
  },
  {
   "cell_type": "code",
   "execution_count": 34,
   "id": "da679b88-934b-42ec-abb3-8e49c276fdcf",
   "metadata": {},
   "outputs": [
    {
     "name": "stdout",
     "output_type": "stream",
     "text": [
      "['Simon Cowell', 'Randy Jackson', 'Paula Abdul']\n"
     ]
    }
   ],
   "source": [
    "# QUESTION 19: List the American Idol Judges\n",
    "print(shows[\"genre\"][\"reality\"][\"american_idol\"][\"judges\"])"
   ]
  },
  {
   "cell_type": "code",
   "execution_count": 35,
   "id": "d0b4dd2a-b9f2-4849-93d9-56dd9386d86f",
   "metadata": {},
   "outputs": [
    {
     "name": "stdout",
     "output_type": "stream",
     "text": [
      "Gaten Matarazzo\n"
     ]
    }
   ],
   "source": [
    "# QUESTION 20: Who plays Dustin in Stanger Things (drama)?\n",
    "drama = shows[\"genre\"][\"drama\"][\"stranger_things\"][\"cast\"]\n",
    "print(drama[3][\"actor\"])"
   ]
  },
  {
   "cell_type": "code",
   "execution_count": null,
   "id": "cb9cb87e-5e11-4b65-8720-ed135e7809ab",
   "metadata": {},
   "outputs": [],
   "source": []
  }
 ],
 "metadata": {
  "kernelspec": {
   "display_name": "Python 3 (ipykernel)",
   "language": "python",
   "name": "python3"
  },
  "language_info": {
   "codemirror_mode": {
    "name": "ipython",
    "version": 3
   },
   "file_extension": ".py",
   "mimetype": "text/x-python",
   "name": "python",
   "nbconvert_exporter": "python",
   "pygments_lexer": "ipython3",
   "version": "3.9.12"
  }
 },
 "nbformat": 4,
 "nbformat_minor": 5
}
